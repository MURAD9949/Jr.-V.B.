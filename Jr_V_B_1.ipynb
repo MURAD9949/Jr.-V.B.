{
  "nbformat": 4,
  "nbformat_minor": 0,
  "metadata": {
    "colab": {
      "name": "Jr. V.B.1",
      "provenance": [],
      "authorship_tag": "ABX9TyP1j059Rc1Ci1/zvjB2oJ5f",
      "include_colab_link": true
    },
    "kernelspec": {
      "name": "python3",
      "display_name": "Python 3"
    },
    "language_info": {
      "name": "python"
    }
  },
  "cells": [
    {
      "cell_type": "markdown",
      "metadata": {
        "id": "view-in-github",
        "colab_type": "text"
      },
      "source": [
        "<a href=\"https://colab.research.google.com/github/MURAD9949/Jr.-V.B./blob/main/Jr_V_B_1.ipynb\" target=\"_parent\"><img src=\"https://colab.research.google.com/assets/colab-badge.svg\" alt=\"Open In Colab\"/></a>"
      ]
    },
    {
      "cell_type": "markdown",
      "source": [
        "## Soru 1"
      ],
      "metadata": {
        "id": "qauGCpTN_yiX"
      }
    },
    {
      "cell_type": "code",
      "source": [
        "l = [[1,'d',5],[5,7,'o'],['g','e',7]]\n",
        "l"
      ],
      "metadata": {
        "id": "IoIo0v5zH8KY",
        "colab": {
          "base_uri": "https://localhost:8080/"
        },
        "outputId": "8b3280ef-a4de-401b-ba28-4183ea3c8869"
      },
      "execution_count": 1,
      "outputs": [
        {
          "output_type": "execute_result",
          "data": {
            "text/plain": [
              "[[1, 'd', 5], [5, 7, 'o'], ['g', 'e', 7]]"
            ]
          },
          "metadata": {},
          "execution_count": 1
        }
      ]
    },
    {
      "cell_type": "code",
      "source": [
        "[e for m in l for e in m]"
      ],
      "metadata": {
        "id": "KkThOfgCH3nN",
        "colab": {
          "base_uri": "https://localhost:8080/"
        },
        "outputId": "ff067c27-542c-4968-cde5-2107bcd41d45"
      },
      "execution_count": 2,
      "outputs": [
        {
          "output_type": "execute_result",
          "data": {
            "text/plain": [
              "[1, 'd', 5, 5, 7, 'o', 'g', 'e', 7]"
            ]
          },
          "metadata": {},
          "execution_count": 2
        }
      ]
    },
    {
      "cell_type": "markdown",
      "source": [
        "## Soru 2"
      ],
      "metadata": {
        "id": "Suqpmwsc_6Di"
      }
    },
    {
      "cell_type": "code",
      "source": [
        "s = [[10, 28, 35], [45, 48, 52, 59], [61, 63, 79]]\n",
        "s"
      ],
      "metadata": {
        "colab": {
          "base_uri": "https://localhost:8080/"
        },
        "id": "EVvJFCun9SAs",
        "outputId": "8ed8954a-e062-41e4-d133-15bb1b8b84bd"
      },
      "execution_count": 3,
      "outputs": [
        {
          "output_type": "execute_result",
          "data": {
            "text/plain": [
              "[[10, 28, 35], [45, 48, 52, 59], [61, 63, 79]]"
            ]
          },
          "metadata": {},
          "execution_count": 3
        }
      ]
    },
    {
      "cell_type": "code",
      "source": [
        "for i in range(len(s)):\n",
        "  s[i].reverse()\n",
        "s.reverse()"
      ],
      "metadata": {
        "id": "yNo2Kt1o-ylU"
      },
      "execution_count": 4,
      "outputs": []
    },
    {
      "cell_type": "code",
      "source": [
        "s"
      ],
      "metadata": {
        "colab": {
          "base_uri": "https://localhost:8080/"
        },
        "id": "9a2C-dZv-z4m",
        "outputId": "1d706cd5-b6e2-4c20-e917-c786e0cfeaad"
      },
      "execution_count": 5,
      "outputs": [
        {
          "output_type": "execute_result",
          "data": {
            "text/plain": [
              "[[79, 63, 61], [59, 52, 48, 45], [35, 28, 10]]"
            ]
          },
          "metadata": {},
          "execution_count": 5
        }
      ]
    }
  ]
}